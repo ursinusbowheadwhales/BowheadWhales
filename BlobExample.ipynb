{
 "cells": [
  {
   "cell_type": "code",
   "execution_count": 1,
   "id": "a4e49bb7",
   "metadata": {},
   "outputs": [],
   "source": [
    "import numpy as np\n",
    "import torch\n",
    "import torch.nn as nn\n",
    "import torch.nn.functional as F\n",
    "import torch.optim as optim\n",
    "import matplotlib.pyplot as plt\n",
    "from torch.utils.data.sampler import SubsetRandomSampler\n",
    "from torch.utils.data import Dataset, DataLoader\n",
    "from torchvision import datasets, transforms\n",
    "import matplotlib.pyplot as plt\n",
    "%matplotlib inline\n",
    "import torch.nn as nn\n",
    "import torch.nn.functional as F\n",
    "import time\n",
    "import skimage.io"
   ]
  },
  {
   "cell_type": "code",
   "execution_count": 2,
   "id": "3f473525",
   "metadata": {},
   "outputs": [
    {
     "data": {
      "text/plain": [
       "'\\n# Uncomment this to create the dataset\\n# choose coordinates of blob\\nn_blobs = 1000\\ncenters = np.random.rand(n_blobs, 2)*2 - 1\\nr = 0.2\\nres = 256\\nnp.savetxt(\"blobs/centers.txt\", centers)\\nfor i in range(n_blobs):\\n    if i%(n_blobs//20) == 0:\\n        print(\".\", end=\\'\\')\\n    cx, cy = centers[i, :]\\n    blob = make_blob(res, cx, cy, r)\\n    skimage.io.imsave(\"blobs/{}.png\".format(i), blob)\\n'"
      ]
     },
     "execution_count": 2,
     "metadata": {},
     "output_type": "execute_result"
    }
   ],
   "source": [
    "def make_blob(res, cx, cy, r):\n",
    "    \"\"\"\n",
    "    Parameters\n",
    "    ----------\n",
    "    res: int\n",
    "        Resolution of image\n",
    "    cx: float\n",
    "        Center x coordinate in [-1, 1]\n",
    "    cy: float\n",
    "        Center y coordinate in [-1, 1]\n",
    "    r: float\n",
    "        Radius\n",
    "    \"\"\"\n",
    "    pix = np.linspace(-1, 1, res)\n",
    "    X, Y = np.meshgrid(pix, pix)\n",
    "    blob = (X-cx)**2 + (Y-cy)**2 < r**2\n",
    "    blob = np.array(255*blob, dtype=np.uint8)\n",
    "    return blob\n",
    "\n",
    "\"\"\"\n",
    "# Uncomment this to create the dataset\n",
    "# choose coordinates of blob\n",
    "n_blobs = 1000\n",
    "centers = np.random.rand(n_blobs, 2)*2 - 1\n",
    "r = 0.2\n",
    "res = 256\n",
    "np.savetxt(\"blobs/centers.txt\", centers)\n",
    "for i in range(n_blobs):\n",
    "    if i%(n_blobs//20) == 0:\n",
    "        print(\".\", end='')\n",
    "    cx, cy = centers[i, :]\n",
    "    blob = make_blob(res, cx, cy, r)\n",
    "    skimage.io.imsave(\"blobs/{}.png\".format(i), blob)\n",
    "\"\"\""
   ]
  },
  {
   "cell_type": "code",
   "execution_count": 3,
   "id": "3698548d",
   "metadata": {},
   "outputs": [],
   "source": [
    "class BlobDataset(Dataset):\n",
    "    def __init__(self, blob_dir):\n",
    "        \"\"\"\n",
    "        Parameters\n",
    "        ----------\n",
    "        blob_dir: string\n",
    "            Path to directory containing blobs\n",
    "        \"\"\"\n",
    "        self.centers = np.loadtxt(\"{}/centers.txt\".format(blob_dir))\n",
    "        \n",
    "    def __len__(self):\n",
    "        return self.centers.shape[0]\n",
    "    \n",
    "    def __getitem__(self, idx):\n",
    "        img = skimage.io.imread(\"blobs/{}.png\".format(idx))\n",
    "        img = img.astype(np.float32)/255 # Convert to [0, 1] range 32-bit float\n",
    "        img = img[None, :, :] # Make this a 1xNxN image so that \n",
    "        img = torch.from_numpy(img) # Convert to torch\n",
    "        label = self.centers[idx, :]\n",
    "        label = label.astype(np.float32)\n",
    "        return img, label"
   ]
  },
  {
   "cell_type": "code",
   "execution_count": 4,
   "id": "f6cec4d0",
   "metadata": {},
   "outputs": [
    {
     "name": "stdout",
     "output_type": "stream",
     "text": [
      "................Epoch 0, Loss = 5.592756, Elapsed Time 2.095\n",
      "................Epoch 1, Loss = 0.918262, Elapsed Time 1.817\n",
      "................Epoch 2, Loss = 0.252088, Elapsed Time 1.765\n",
      "................Epoch 3, Loss = 0.125254, Elapsed Time 1.766\n",
      "................Epoch 4, Loss = 0.075567, Elapsed Time 1.767\n",
      "................Epoch 5, Loss = 0.057419, Elapsed Time 1.769\n",
      "................Epoch 6, Loss = 0.049295, Elapsed Time 1.766\n",
      "................Epoch 7, Loss = 0.043525, Elapsed Time 1.777\n",
      "................Epoch 8, Loss = 0.039728, Elapsed Time 1.765\n",
      "................Epoch 9, Loss = 0.036490, Elapsed Time 1.767\n",
      "................Epoch 10, Loss = 0.033637, Elapsed Time 1.778\n",
      "................Epoch 11, Loss = 0.031830, Elapsed Time 1.782\n",
      "................Epoch 12, Loss = 0.029641, Elapsed Time 1.779\n",
      "................Epoch 13, Loss = 0.027845, Elapsed Time 1.778\n",
      "................Epoch 14, Loss = 0.026095, Elapsed Time 1.779\n",
      "................Epoch 15, Loss = 0.024626, Elapsed Time 1.765\n",
      "................Epoch 16, Loss = 0.023257, Elapsed Time 1.778\n",
      "................Epoch 17, Loss = 0.022174, Elapsed Time 1.767\n",
      "................Epoch 18, Loss = 0.020979, Elapsed Time 1.766\n",
      "................Epoch 19, Loss = 0.019743, Elapsed Time 1.765\n"
     ]
    }
   ],
   "source": [
    "class AutoencoderCNN(nn.Module):\n",
    "    def __init__(self, dim=10):\n",
    "        \"\"\"\n",
    "        Parameters\n",
    "        ----------\n",
    "        dim: int\n",
    "            Dimension of the output\n",
    "        \"\"\"\n",
    "        super(AutoencoderCNN, self).__init__()\n",
    "        \n",
    "        ## Step 1: Setup the architecture\n",
    "        self.dim = dim\n",
    "        # 1 input channel, 8 output channels, 3x3 convolutional kernel, jump by 2\n",
    "        self.conv1 = nn.Conv2d(1, 8, 3, stride=2, padding=1)\n",
    "        self.conv1_relu = nn.ReLU()\n",
    "        self.conv2 = nn.Conv2d(8, 16, 3, stride=2, padding=1)\n",
    "        self.conv2_relu = nn.ReLU()\n",
    "        self.flatten = nn.Flatten()\n",
    "        self.final = nn.Linear(65536, dim)\n",
    "        self.final_nonlinear = nn.Tanh()\n",
    "        \n",
    "        ## Step 2: Setup objective function\n",
    "        self.criterion = nn.MSELoss() # Like squared euclidean distance\n",
    "        # Setting up smart backprop, with a \"learning rate\" (step size) of 0.001 \n",
    "        self.optimizer = torch.optim.Adam(self.parameters(), lr=0.001) \n",
    "        \n",
    "    def forward(self, x):\n",
    "        layers = [self.conv1, self.conv1_relu, self.conv2, self.conv2_relu]\n",
    "        layers += [self.flatten, self.final, self.final_nonlinear]\n",
    "        y = x\n",
    "        #print(\"Input Shape: \", y.shape) \n",
    "        for layer in layers:\n",
    "            y = layer(y)\n",
    "            #print(y.shape) # Uncomment this to print the shapes again\n",
    "        return y\n",
    "    \n",
    "    def train(self, data_loader, n_epochs=20):\n",
    "        losses = []\n",
    "        for epoch in range(n_epochs): # A cycle through all of the data\n",
    "            tic = time.time()\n",
    "            train_loss = 0.0\n",
    "            for imgs, centers in data_loader:\n",
    "                print(\".\", end='')\n",
    "                # images = images.to(device) ## TODO: Get this onto GPU\n",
    "                self.optimizer.zero_grad() # Reset from last iteration\n",
    "                centers_est = self.forward(imgs)\n",
    "                loss = self.criterion(centers_est, centers) # Compute objective function\n",
    "                # summed over all image centers\n",
    "                loss.backward() # Backpropagation\n",
    "                self.optimizer.step()\n",
    "                train_loss += loss.item() # Keep track of loss \n",
    "            losses.append(train_loss)\n",
    "            toc = time.time()\n",
    "            print(\"Epoch {}, Loss = {:.6f}, Elapsed Time {:.3f}\".format(epoch, train_loss, toc-tic))\n",
    "        return losses\n",
    "\n",
    "model = AutoencoderCNN(2)\n",
    "\n",
    "dataset = BlobDataset(\"blobs\")\n",
    "train_dataloader = DataLoader(dataset, batch_size=64, shuffle=True)\n",
    "losses = model.train(train_dataloader, n_epochs=20)"
   ]
  },
  {
   "cell_type": "code",
   "execution_count": 5,
   "id": "1fc3e6ce",
   "metadata": {},
   "outputs": [
    {
     "data": {
      "text/plain": [
       "Text(0, 0.5, 'MSE Loss')"
      ]
     },
     "execution_count": 5,
     "metadata": {},
     "output_type": "execute_result"
    },
    {
     "data": {
      "image/png": "[encoded data removed]",
      "text/plain": [
       "<Figure size 432x288 with 1 Axes>"
      ]
     },
     "metadata": {
      "needs_background": "light"
     },
     "output_type": "display_data"
    }
   ],
   "source": [
    "plt.plot(losses)\n",
    "plt.xlabel(\"Epoch\")\n",
    "plt.ylabel(\"MSE Loss\")"
   ]
  },
  {
   "cell_type": "code",
   "execution_count": 19,
   "id": "3b542ecb",
   "metadata": {},
   "outputs": [
    {
     "data": {
      "image/png": "[encoded data removed]",
      "text/plain": [
       "<Figure size 432x288 with 1 Axes>"
      ]
     },
     "metadata": {
      "needs_background": "light"
     },
     "output_type": "display_data"
    }
   ],
   "source": [
    "cx = 0.76\n",
    "cy = -0.5\n",
    "r = 0.2\n",
    "res = 256\n",
    "blob = make_blob(res, cx, cy, r)\n",
    "blob = np.array(blob, dtype=np.float32)/255\n",
    "\n",
    "# Put in a batch of 1\n",
    "blob_tensor = torch.from_numpy(blob[None, None, :, :])\n",
    "res = model(blob_tensor).detach().numpy() # Take it out of tensorflow back to numpy\n",
    "res = res.flatten()\n",
    "\n",
    "plt.imshow(blob, extent=(-1, 1, 1, -1))\n",
    "plt.scatter(res[0], res[1])\n",
    "plt.gca().invert_yaxis()\n",
    "\n",
    "#img, label = dataset[10]\n",
    "#print(label)\n",
    "#plt.imshow(img[0, :, :], extent=[-1, 1, 1, -1])\n",
    "#plt.scatter(label[0], label[1])\n"
   ]
  },
  {
   "cell_type": "code",
   "execution_count": null,
   "id": "13b9dd2c",
   "metadata": {},
   "outputs": [],
   "source": []
  }
 ],
 "metadata": {
  "kernelspec": {
   "display_name": "Python 3 (ipykernel)",
   "language": "python",
   "name": "python3"
  },
  "language_info": {
   "codemirror_mode": {
    "name": "ipython",
    "version": 3
   },
   "file_extension": ".py",
   "mimetype": "text/x-python",
   "name": "python",
   "nbconvert_exporter": "python",
   "pygments_lexer": "ipython3",
   "version": "3.9.12"
  }
 },
 "nbformat": 4,
 "nbformat_minor": 5
}
